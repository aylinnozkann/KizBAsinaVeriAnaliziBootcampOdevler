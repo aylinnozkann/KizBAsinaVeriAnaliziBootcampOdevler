{
  "cells": [
    {
      "cell_type": "code",
      "execution_count": null,
      "metadata": {
        "id": "V14Nj-KWLclB"
      },
      "outputs": [],
      "source": [
        "##ödevler --- ilk değerler kullanıcıdan alınacak\n",
        "\n",
        "# girilen sayının pozitif, negatif veya sıfır olduğunu yazan koşul\n",
        "# girilen sayının tek mi çift mi olduğunu yazan koşul\n",
        "# Girilen nota göre harf aralığını yazan koşul (80-100 A, 60-80 B vs.)\n",
        "# girilen ismin karakter sayısı 5den büyükse \"uzun bir isminiz var\" değilse ismini yazsın\n",
        "\n",
        "# girilen sayının asal olup olmadığını bulan kod dizisi. (for ve while)\n",
        "# notlar=[45,85,75,50] içinde 75 değerinin indisini yazdıran döngü\n",
        "# girilen sayının faktöriyelini alalım. (for ve while)\n",
        "# kullanıcıdan pozitif bir sayı bekleyen, pozitifi de gördüğü an bastıran, negatif sayı girildikçe bir daha soran yapı kuralım. (for döngüsü ile)\n",
        "\n",
        "# fonksiyon ile girilen bir sayının asal olup olmadığını bulan kod dizisi. (for ve while)\n",
        "# fonksiyon ile girilen sayının faktöriyelini alalım (for ve while)\n"
      ]
    },
    {
      "cell_type": "code",
      "execution_count": null,
      "metadata": {
        "colab": {
          "base_uri": "https://localhost:8080/"
        },
        "id": "TESt1R-8Lm0u",
        "outputId": "a5c7b59d-f7e7-4d70-a80a-d635618bba2c"
      },
      "outputs": [
        {
          "name": "stdout",
          "output_type": "stream",
          "text": [
            "lütfen bir sayı giriniz: 0\n",
            "sıfır\n"
          ]
        }
      ],
      "source": [
        "# girilen sayının pozitif, negatif veya sıfır olduğunu yazan koşul\n",
        "\n",
        "x=int(input(\"lütfen bir sayı giriniz: \"))\n",
        "\n",
        "if x>0:\n",
        "  print(\"pozitif\")\n",
        "\n",
        "elif x==0:\n",
        "  print(\"sıfır\")\n",
        "\n",
        "else:\n",
        "  print(\"negatif\")"
      ]
    },
    {
      "cell_type": "code",
      "execution_count": null,
      "metadata": {
        "colab": {
          "base_uri": "https://localhost:8080/"
        },
        "id": "EW0QLSfcM4Oi",
        "outputId": "e9692dbe-e1f3-48f3-9836-7e2edab766b1"
      },
      "outputs": [
        {
          "name": "stdout",
          "output_type": "stream",
          "text": [
            "Bir sayı giriniz:7\n",
            "tek sayı\n"
          ]
        }
      ],
      "source": [
        "# girilen sayının tek mi çift mi olduğunu yazan koşul\n",
        "\n",
        "x=int(input(\"Bir sayı giriniz:\"))\n",
        "\n",
        "if x%2==0:\n",
        "  print(\"çift sayı\")\n",
        "\n",
        "else:\n",
        "  print(\"tek sayı\")"
      ]
    },
    {
      "cell_type": "code",
      "execution_count": null,
      "metadata": {
        "id": "m4u6NIq6Ej1a",
        "colab": {
          "base_uri": "https://localhost:8080/"
        },
        "outputId": "0244b570-c8d5-44e6-d65b-e47d1b10bab9"
      },
      "outputs": [
        {
          "output_type": "stream",
          "name": "stdout",
          "text": [
            "Notunuzu giriniz:90\n",
            "A\n"
          ]
        }
      ],
      "source": [
        "# Girilen nota göre harf aralığını yazan koşul (80-100 A, 60-80 B vs.)\n",
        "\n",
        "x=int(input(\"Notunuzu giriniz:\"))\n",
        "\n",
        "if 80<=x<=100:\n",
        "  print(\"A\")\n",
        "elif 60<=x<80:\n",
        "  print(\"B\")\n",
        "elif 40<=x<60:\n",
        "  print(\"C\")\n",
        "elif 30<=x<40:\n",
        "  print(\"D\")\n",
        "elif x<30:\n",
        "  print(\"F\")\n",
        "else:\n",
        "  print(\"Geçersiz sayı yazdınız.\")"
      ]
    },
    {
      "cell_type": "code",
      "execution_count": null,
      "metadata": {
        "id": "WQfXTHyiEjyx",
        "colab": {
          "base_uri": "https://localhost:8080/"
        },
        "outputId": "d5ceb008-d5b5-4de1-e93e-05ff46238df2"
      },
      "outputs": [
        {
          "output_type": "stream",
          "name": "stdout",
          "text": [
            "İsminizi giriniz:Aylin\n",
            "Aylin\n"
          ]
        }
      ],
      "source": [
        "# girilen ismin karakter sayısı 5den büyükse \"uzun bir isminiz var\" değilse ismini yazsın\n",
        "\n",
        "x=input(\"İsminizi giriniz:\")\n",
        "\n",
        "if len(x)>5:\n",
        "  print(\"uzun bir isminiz var.\")\n",
        "else:\n",
        "  print(x)"
      ]
    },
    {
      "cell_type": "code",
      "execution_count": null,
      "metadata": {
        "colab": {
          "base_uri": "https://localhost:8080/"
        },
        "id": "D8hcZUlNEjwG",
        "outputId": "d65605e9-e9b8-4369-80be-887b3600ff62"
      },
      "outputs": [
        {
          "output_type": "stream",
          "name": "stdout",
          "text": [
            "Bir sayı giriniz:12\n",
            "Asal olmayan sayı\n"
          ]
        }
      ],
      "source": [
        "# girilen sayının asal olup olmadığını bulan kod dizisi. (for ile)\n",
        "\n",
        "x=int(input(\"Bir sayı giriniz:\"))\n",
        "\n",
        "if x>1:\n",
        "  for i in range(2,x):\n",
        "    if x%i==0:\n",
        "      print(\"Asal olmayan sayı\")\n",
        "      break\n",
        "    else:\n",
        "      print(\"Asal sayı\")\n",
        "      break\n",
        "else:\n",
        "  print(\"Asal olmayan sayı\")"
      ]
    },
    {
      "cell_type": "code",
      "source": [
        "5# girilen sayının asal olup olmadığını bulan kod dizisi. (while ile)\n",
        "\n",
        "x=int(input(\"Bir sayı giriniz:\"))\n",
        "i=2\n",
        "\n",
        "while i<x:\n",
        "  if x%i==0:\n",
        "    print(\"Asal olmayan sayı\")\n",
        "    break\n",
        "  i=i+1\n",
        "else:\n",
        "  if x>1:\n",
        "    print(\"Asal sayı\")\n",
        "  else:\n",
        "    print(\"Asal olmayan sayı\")"
      ],
      "metadata": {
        "colab": {
          "base_uri": "https://localhost:8080/"
        },
        "id": "tJzgKwZ8l3d9",
        "outputId": "80570928-a7ce-4261-c806-b844bcb1f4ce"
      },
      "execution_count": null,
      "outputs": [
        {
          "output_type": "stream",
          "name": "stdout",
          "text": [
            "Bir sayı giriniz:11\n",
            "Asal sayı\n"
          ]
        }
      ]
    },
    {
      "cell_type": "code",
      "execution_count": null,
      "metadata": {
        "id": "rBbZylNtEjtc",
        "colab": {
          "base_uri": "https://localhost:8080/"
        },
        "outputId": "f1824393-e0c3-4d2d-f73b-85e9340e8557"
      },
      "outputs": [
        {
          "output_type": "stream",
          "name": "stdout",
          "text": [
            "2\n"
          ]
        }
      ],
      "source": [
        "# notlar=[45,85,75,50] içinde 75 değerinin indisini yazdıran döngü\n",
        "\n",
        "notlar=[45,85,75,50]\n",
        "\n",
        "for i in range(len(notlar)):\n",
        "  notlar[i]\n",
        "  while notlar[i]==75:\n",
        "    print(i)\n",
        "    break"
      ]
    },
    {
      "cell_type": "code",
      "execution_count": null,
      "metadata": {
        "colab": {
          "base_uri": "https://localhost:8080/"
        },
        "id": "giGSx6bxEjqt",
        "outputId": "383867fb-b926-4cce-e425-b5667626a5f7"
      },
      "outputs": [
        {
          "name": "stdout",
          "output_type": "stream",
          "text": [
            "Bir sayı giriniz:5\n",
            "120\n"
          ]
        }
      ],
      "source": [
        "# girilen sayının faktöriyelini alalım. (for ile)\n",
        "\n",
        "x=int(input(\"Bir sayı giriniz:\"))\n",
        "faktöriyel=1\n",
        "\n",
        "for i in range(1,x+1):\n",
        "  faktöriyel=faktöriyel*i\n",
        "\n",
        "print(faktöriyel)\n"
      ]
    },
    {
      "cell_type": "code",
      "execution_count": null,
      "metadata": {
        "colab": {
          "base_uri": "https://localhost:8080/"
        },
        "id": "QiGkqG3HRYM0",
        "outputId": "f1360b54-a266-4ca7-cb52-c8f2d1e910c6"
      },
      "outputs": [
        {
          "output_type": "stream",
          "name": "stdout",
          "text": [
            "Bir sayı giriniz:5\n",
            "120\n"
          ]
        }
      ],
      "source": [
        "# girilen sayının faktöriyelini alalım (while ile)\n",
        "\n",
        "x=int(input(\"Bir sayı giriniz:\"))\n",
        "faktöriyel=1\n",
        "\n",
        "while 0<x:\n",
        "  faktöriyel=faktöriyel*x\n",
        "  x=x-1\n",
        "\n",
        "print(faktöriyel)"
      ]
    },
    {
      "cell_type": "code",
      "execution_count": null,
      "metadata": {
        "id": "rUVKaPicEjnx",
        "colab": {
          "base_uri": "https://localhost:8080/"
        },
        "outputId": "615474fb-d6f1-4591-8505-22c81be49cfc"
      },
      "outputs": [
        {
          "output_type": "stream",
          "name": "stdout",
          "text": [
            "pozitif bir sayı giriniz:-3\n",
            "pozitif bir sayı giriniz:-6\n",
            "pozitif bir sayı giriniz:-7\n",
            "pozitif bir sayı giriniz:3\n",
            "3\n"
          ]
        }
      ],
      "source": [
        "# kullanıcıdan pozitif bir sayı bekleyen, pozitifi de gördüğü an bastıran, negatif sayı girildikçe bir daha soran yapı kuralım. (for döngüsü ile)\n",
        "\n",
        "x=int(input(\"pozitif bir sayı giriniz:\"))\n",
        "\n",
        "for i in range(x,100):\n",
        "  if i<0:\n",
        "    x=int(input(\"pozitif bir sayı giriniz:\"))\n",
        "  else:\n",
        "     print(x)\n",
        "     break"
      ]
    },
    {
      "cell_type": "code",
      "source": [
        "# kullanıcıdan pozitif bir sayı bekleyen, pozitifi de gördüğü an bastıran, negatif sayı girildikçe bir daha soran yapı kuralım. (while döngüsü ile)\n",
        "\n",
        "x=int(input(\"pozitif bir sayı giriniz:\"))\n",
        "while x<0:\n",
        "  x=int(input(\"pozitif bir sayı giriniz:\"))\n",
        "print(x)"
      ],
      "metadata": {
        "colab": {
          "base_uri": "https://localhost:8080/"
        },
        "id": "xySxdCw67Y6l",
        "outputId": "e31b64bf-307b-46ea-d8c9-f7e8478a0f7a"
      },
      "execution_count": null,
      "outputs": [
        {
          "output_type": "stream",
          "name": "stdout",
          "text": [
            "pozitif bir sayı giriniz:-1\n",
            "pozitif bir sayı giriniz:-2\n",
            "pozitif bir sayı giriniz:3\n",
            "3\n"
          ]
        }
      ]
    },
    {
      "cell_type": "code",
      "execution_count": null,
      "metadata": {
        "id": "0AlAthhEEjlF",
        "colab": {
          "base_uri": "https://localhost:8080/"
        },
        "outputId": "fe8d8eec-c401-4dc3-bb77-61a6dd5f2c8e"
      },
      "outputs": [
        {
          "output_type": "stream",
          "name": "stdout",
          "text": [
            "Bir sayı giriniz:11\n",
            "Asal sayı\n"
          ]
        }
      ],
      "source": [
        "# fonksiyon ile girilen bir sayının asal olup olmadığını bulan kod dizisi. (for ile)\n",
        "\n",
        "def f(x):\n",
        "  if x>1:\n",
        "    for i in range(2,x):\n",
        "     if x%i==0:\n",
        "      return False\n",
        "    return True\n",
        "  else:\n",
        "    return False\n",
        "\n",
        "a=int(input(\"Bir sayı giriniz:\"))\n",
        "if f(a):\n",
        "  print(\"Asal sayı\")\n",
        "else:\n",
        "  print(\"Asal olmayan sayı\")"
      ]
    },
    {
      "cell_type": "code",
      "source": [
        "# fonksiyon ile girilen bir sayının asal olup olmadığını bulan kod dizisi. (while ile)\n",
        "\n",
        "def f(x):\n",
        "  if x<2:\n",
        "    return False\n",
        "\n",
        "  i=2\n",
        "  while i<x:\n",
        "    if x%i==0:\n",
        "      return False\n",
        "    i=i+1\n",
        "\n",
        "  return True\n",
        "\n",
        "a=int(input(\"Bir sayı giriniz:\"))\n",
        "\n",
        "if f(a):\n",
        "  print(\"Asal sayı\")\n",
        "else:\n",
        "  print(\"Asal olmayan sayı\")"
      ],
      "metadata": {
        "colab": {
          "base_uri": "https://localhost:8080/"
        },
        "id": "8unIKMseZzyZ",
        "outputId": "2485c1d8-b0a1-4945-c1b3-21a6b3463d01"
      },
      "execution_count": null,
      "outputs": [
        {
          "output_type": "stream",
          "name": "stdout",
          "text": [
            "Bir sayı giriniz:9\n",
            "Asal olmayan sayı\n"
          ]
        }
      ]
    },
    {
      "cell_type": "code",
      "execution_count": null,
      "metadata": {
        "id": "1Rk1dFYGEjiO",
        "colab": {
          "base_uri": "https://localhost:8080/"
        },
        "outputId": "72223de6-19a2-4e15-d3f9-dacf9402f6ee"
      },
      "outputs": [
        {
          "output_type": "stream",
          "name": "stdout",
          "text": [
            "Bir sayı giriniz:6\n",
            "720\n"
          ]
        }
      ],
      "source": [
        "# fonksiyon ile girilen sayının faktöriyelini alalım (for ile)\n",
        "\n",
        "def f(x):\n",
        "    faktöriyel=1\n",
        "\n",
        "    for i in range(1,x+1):\n",
        "      faktöriyel=faktöriyel*i\n",
        "\n",
        "    return faktöriyel\n",
        "\n",
        "a=int(input(\"Bir sayı giriniz:\"))\n",
        "print(f(a))"
      ]
    },
    {
      "cell_type": "code",
      "source": [
        "# fonksiyon ile girilen sayının faktöriyelini alalım (while ile)\n",
        "\n",
        "def f(x):\n",
        "  faktöriyel=1\n",
        "\n",
        "  while 0<x:\n",
        "    faktöriyel=faktöriyel*x\n",
        "    x=x-1\n",
        "\n",
        "  return faktöriyel\n",
        "\n",
        "a=int(input(\"Bir sayı giriniz:\"))\n",
        "print(f(a))"
      ],
      "metadata": {
        "colab": {
          "base_uri": "https://localhost:8080/"
        },
        "id": "jLgLXC18hDUr",
        "outputId": "e4a6ba6b-d35c-4eb8-8b8f-bf41c860726d"
      },
      "execution_count": null,
      "outputs": [
        {
          "output_type": "stream",
          "name": "stdout",
          "text": [
            "Bir sayı giriniz:3\n",
            "6\n"
          ]
        }
      ]
    }
  ],
  "metadata": {
    "colab": {
      "provenance": []
    },
    "kernelspec": {
      "display_name": "Python 3",
      "name": "python3"
    },
    "language_info": {
      "name": "python"
    }
  },
  "nbformat": 4,
  "nbformat_minor": 0
}